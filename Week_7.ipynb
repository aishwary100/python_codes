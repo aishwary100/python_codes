{
 "metadata": {
  "language_info": {
   "codemirror_mode": {
    "name": "ipython",
    "version": 3
   },
   "file_extension": ".py",
   "mimetype": "text/x-python",
   "name": "python",
   "nbconvert_exporter": "python",
   "pygments_lexer": "ipython3",
   "version": "3.8.5"
  },
  "orig_nbformat": 4,
  "kernelspec": {
   "name": "python3",
   "display_name": "Python 3.8.5 64-bit ('base': conda)"
  },
  "interpreter": {
   "hash": "d1d37ddb70050afa52a1299705aaeab5a42cd3a2af583ebe182c73a1db8be156"
  }
 },
 "nbformat": 4,
 "nbformat_minor": 2,
 "cells": [
  {
   "cell_type": "code",
   "execution_count": 1,
   "metadata": {},
   "outputs": [
    {
     "output_type": "execute_result",
     "data": {
      "text/plain": [
       "   Unnamed: 0  index      company   body-style  wheel-base  length  \\\n",
       "0           0      0  alfa-romero  convertible        88.6   168.8   \n",
       "1           1      1  alfa-romero  convertible        88.6   168.8   \n",
       "2           2      2  alfa-romero    hatchback        94.5   171.2   \n",
       "3           3      3         audi        sedan        99.8   176.6   \n",
       "4           4      4         audi        sedan        99.4   176.6   \n",
       "\n",
       "  engine-type num-of-cylinders  horsepower  average-mileage    price  \n",
       "0        dohc             four         111               21      NaN  \n",
       "1        dohc             four         111               21  16500.0  \n",
       "2        ohcv              six         154               19  16500.0  \n",
       "3         ohc             four         102               24  13950.0  \n",
       "4         ohc             five         115               18  17450.0  "
      ],
      "text/html": "<div>\n<style scoped>\n    .dataframe tbody tr th:only-of-type {\n        vertical-align: middle;\n    }\n\n    .dataframe tbody tr th {\n        vertical-align: top;\n    }\n\n    .dataframe thead th {\n        text-align: right;\n    }\n</style>\n<table border=\"1\" class=\"dataframe\">\n  <thead>\n    <tr style=\"text-align: right;\">\n      <th></th>\n      <th>Unnamed: 0</th>\n      <th>index</th>\n      <th>company</th>\n      <th>body-style</th>\n      <th>wheel-base</th>\n      <th>length</th>\n      <th>engine-type</th>\n      <th>num-of-cylinders</th>\n      <th>horsepower</th>\n      <th>average-mileage</th>\n      <th>price</th>\n    </tr>\n  </thead>\n  <tbody>\n    <tr>\n      <th>0</th>\n      <td>0</td>\n      <td>0</td>\n      <td>alfa-romero</td>\n      <td>convertible</td>\n      <td>88.6</td>\n      <td>168.8</td>\n      <td>dohc</td>\n      <td>four</td>\n      <td>111</td>\n      <td>21</td>\n      <td>NaN</td>\n    </tr>\n    <tr>\n      <th>1</th>\n      <td>1</td>\n      <td>1</td>\n      <td>alfa-romero</td>\n      <td>convertible</td>\n      <td>88.6</td>\n      <td>168.8</td>\n      <td>dohc</td>\n      <td>four</td>\n      <td>111</td>\n      <td>21</td>\n      <td>16500.0</td>\n    </tr>\n    <tr>\n      <th>2</th>\n      <td>2</td>\n      <td>2</td>\n      <td>alfa-romero</td>\n      <td>hatchback</td>\n      <td>94.5</td>\n      <td>171.2</td>\n      <td>ohcv</td>\n      <td>six</td>\n      <td>154</td>\n      <td>19</td>\n      <td>16500.0</td>\n    </tr>\n    <tr>\n      <th>3</th>\n      <td>3</td>\n      <td>3</td>\n      <td>audi</td>\n      <td>sedan</td>\n      <td>99.8</td>\n      <td>176.6</td>\n      <td>ohc</td>\n      <td>four</td>\n      <td>102</td>\n      <td>24</td>\n      <td>13950.0</td>\n    </tr>\n    <tr>\n      <th>4</th>\n      <td>4</td>\n      <td>4</td>\n      <td>audi</td>\n      <td>sedan</td>\n      <td>99.4</td>\n      <td>176.6</td>\n      <td>ohc</td>\n      <td>five</td>\n      <td>115</td>\n      <td>18</td>\n      <td>17450.0</td>\n    </tr>\n  </tbody>\n</table>\n</div>"
     },
     "metadata": {},
     "execution_count": 1
    }
   ],
   "source": [
    "import pandas as pd\n",
    "data=pd.read_csv(\"C:\Users\Aishwary Pandey\OneDrive\Desktop\Automobile_data.csv\")\n",
    "data.head()"
   ]
  },
  {
   "cell_type": "code",
   "execution_count": 2,
   "metadata": {},
   "outputs": [
    {
     "output_type": "execute_result",
     "data": {
      "text/plain": [
       "    Unnamed: 0  index     company body-style  wheel-base  length engine-type  \\\n",
       "56          56     81  volkswagen      sedan        97.3   171.7         ohc   \n",
       "57          57     82  volkswagen      sedan        97.3   171.7         ohc   \n",
       "58          58     86  volkswagen      sedan        97.3   171.7         ohc   \n",
       "59          59     87       volvo      sedan       104.3   188.8         ohc   \n",
       "60          60     88       volvo      wagon       104.3   188.8         ohc   \n",
       "\n",
       "   num-of-cylinders  horsepower  average-mileage    price  \n",
       "56             four          85               27   7975.0  \n",
       "57             four          52               37   7995.0  \n",
       "58             four         100               26   9995.0  \n",
       "59             four         114               23  12940.0  \n",
       "60             four         114               23  13415.0  "
      ],
      "text/html": "<div>\n<style scoped>\n    .dataframe tbody tr th:only-of-type {\n        vertical-align: middle;\n    }\n\n    .dataframe tbody tr th {\n        vertical-align: top;\n    }\n\n    .dataframe thead th {\n        text-align: right;\n    }\n</style>\n<table border=\"1\" class=\"dataframe\">\n  <thead>\n    <tr style=\"text-align: right;\">\n      <th></th>\n      <th>Unnamed: 0</th>\n      <th>index</th>\n      <th>company</th>\n      <th>body-style</th>\n      <th>wheel-base</th>\n      <th>length</th>\n      <th>engine-type</th>\n      <th>num-of-cylinders</th>\n      <th>horsepower</th>\n      <th>average-mileage</th>\n      <th>price</th>\n    </tr>\n  </thead>\n  <tbody>\n    <tr>\n      <th>56</th>\n      <td>56</td>\n      <td>81</td>\n      <td>volkswagen</td>\n      <td>sedan</td>\n      <td>97.3</td>\n      <td>171.7</td>\n      <td>ohc</td>\n      <td>four</td>\n      <td>85</td>\n      <td>27</td>\n      <td>7975.0</td>\n    </tr>\n    <tr>\n      <th>57</th>\n      <td>57</td>\n      <td>82</td>\n      <td>volkswagen</td>\n      <td>sedan</td>\n      <td>97.3</td>\n      <td>171.7</td>\n      <td>ohc</td>\n      <td>four</td>\n      <td>52</td>\n      <td>37</td>\n      <td>7995.0</td>\n    </tr>\n    <tr>\n      <th>58</th>\n      <td>58</td>\n      <td>86</td>\n      <td>volkswagen</td>\n      <td>sedan</td>\n      <td>97.3</td>\n      <td>171.7</td>\n      <td>ohc</td>\n      <td>four</td>\n      <td>100</td>\n      <td>26</td>\n      <td>9995.0</td>\n    </tr>\n    <tr>\n      <th>59</th>\n      <td>59</td>\n      <td>87</td>\n      <td>volvo</td>\n      <td>sedan</td>\n      <td>104.3</td>\n      <td>188.8</td>\n      <td>ohc</td>\n      <td>four</td>\n      <td>114</td>\n      <td>23</td>\n      <td>12940.0</td>\n    </tr>\n    <tr>\n      <th>60</th>\n      <td>60</td>\n      <td>88</td>\n      <td>volvo</td>\n      <td>wagon</td>\n      <td>104.3</td>\n      <td>188.8</td>\n      <td>ohc</td>\n      <td>four</td>\n      <td>114</td>\n      <td>23</td>\n      <td>13415.0</td>\n    </tr>\n  </tbody>\n</table>\n</div>"
     },
     "metadata": {},
     "execution_count": 2
    }
   ],
   "source": [
    "data.tail()"
   ]
  },
  {
   "cell_type": "code",
   "execution_count": 3,
   "metadata": {},
   "outputs": [
    {
     "output_type": "execute_result",
     "data": {
      "text/plain": [
       "    Unnamed: 0  index      company   body-style  wheel-base  length  \\\n",
       "0            0      0  alfa-romero  convertible        88.6   168.8   \n",
       "1            1      1  alfa-romero  convertible        88.6   168.8   \n",
       "2            2      2  alfa-romero    hatchback        94.5   171.2   \n",
       "3            3      3         audi        sedan        99.8   176.6   \n",
       "4            4      4         audi        sedan        99.4   176.6   \n",
       "..         ...    ...          ...          ...         ...     ...   \n",
       "56          56     81   volkswagen        sedan        97.3   171.7   \n",
       "57          57     82   volkswagen        sedan        97.3   171.7   \n",
       "58          58     86   volkswagen        sedan        97.3   171.7   \n",
       "59          59     87        volvo        sedan       104.3   188.8   \n",
       "60          60     88        volvo        wagon       104.3   188.8   \n",
       "\n",
       "   engine-type num-of-cylinders  horsepower  average-mileage    price  \n",
       "0         dohc             four         111               21      NaN  \n",
       "1         dohc             four         111               21  16500.0  \n",
       "2         ohcv              six         154               19  16500.0  \n",
       "3          ohc             four         102               24  13950.0  \n",
       "4          ohc             five         115               18  17450.0  \n",
       "..         ...              ...         ...              ...      ...  \n",
       "56         ohc             four          85               27   7975.0  \n",
       "57         ohc             four          52               37   7995.0  \n",
       "58         ohc             four         100               26   9995.0  \n",
       "59         ohc             four         114               23  12940.0  \n",
       "60         ohc             four         114               23  13415.0  \n",
       "\n",
       "[61 rows x 11 columns]"
      ],
      "text/html": "<div>\n<style scoped>\n    .dataframe tbody tr th:only-of-type {\n        vertical-align: middle;\n    }\n\n    .dataframe tbody tr th {\n        vertical-align: top;\n    }\n\n    .dataframe thead th {\n        text-align: right;\n    }\n</style>\n<table border=\"1\" class=\"dataframe\">\n  <thead>\n    <tr style=\"text-align: right;\">\n      <th></th>\n      <th>Unnamed: 0</th>\n      <th>index</th>\n      <th>company</th>\n      <th>body-style</th>\n      <th>wheel-base</th>\n      <th>length</th>\n      <th>engine-type</th>\n      <th>num-of-cylinders</th>\n      <th>horsepower</th>\n      <th>average-mileage</th>\n      <th>price</th>\n    </tr>\n  </thead>\n  <tbody>\n    <tr>\n      <th>0</th>\n      <td>0</td>\n      <td>0</td>\n      <td>alfa-romero</td>\n      <td>convertible</td>\n      <td>88.6</td>\n      <td>168.8</td>\n      <td>dohc</td>\n      <td>four</td>\n      <td>111</td>\n      <td>21</td>\n      <td>NaN</td>\n    </tr>\n    <tr>\n      <th>1</th>\n      <td>1</td>\n      <td>1</td>\n      <td>alfa-romero</td>\n      <td>convertible</td>\n      <td>88.6</td>\n      <td>168.8</td>\n      <td>dohc</td>\n      <td>four</td>\n      <td>111</td>\n      <td>21</td>\n      <td>16500.0</td>\n    </tr>\n    <tr>\n      <th>2</th>\n      <td>2</td>\n      <td>2</td>\n      <td>alfa-romero</td>\n      <td>hatchback</td>\n      <td>94.5</td>\n      <td>171.2</td>\n      <td>ohcv</td>\n      <td>six</td>\n      <td>154</td>\n      <td>19</td>\n      <td>16500.0</td>\n    </tr>\n    <tr>\n      <th>3</th>\n      <td>3</td>\n      <td>3</td>\n      <td>audi</td>\n      <td>sedan</td>\n      <td>99.8</td>\n      <td>176.6</td>\n      <td>ohc</td>\n      <td>four</td>\n      <td>102</td>\n      <td>24</td>\n      <td>13950.0</td>\n    </tr>\n    <tr>\n      <th>4</th>\n      <td>4</td>\n      <td>4</td>\n      <td>audi</td>\n      <td>sedan</td>\n      <td>99.4</td>\n      <td>176.6</td>\n      <td>ohc</td>\n      <td>five</td>\n      <td>115</td>\n      <td>18</td>\n      <td>17450.0</td>\n    </tr>\n    <tr>\n      <th>...</th>\n      <td>...</td>\n      <td>...</td>\n      <td>...</td>\n      <td>...</td>\n      <td>...</td>\n      <td>...</td>\n      <td>...</td>\n      <td>...</td>\n      <td>...</td>\n      <td>...</td>\n      <td>...</td>\n    </tr>\n    <tr>\n      <th>56</th>\n      <td>56</td>\n      <td>81</td>\n      <td>volkswagen</td>\n      <td>sedan</td>\n      <td>97.3</td>\n      <td>171.7</td>\n      <td>ohc</td>\n      <td>four</td>\n      <td>85</td>\n      <td>27</td>\n      <td>7975.0</td>\n    </tr>\n    <tr>\n      <th>57</th>\n      <td>57</td>\n      <td>82</td>\n      <td>volkswagen</td>\n      <td>sedan</td>\n      <td>97.3</td>\n      <td>171.7</td>\n      <td>ohc</td>\n      <td>four</td>\n      <td>52</td>\n      <td>37</td>\n      <td>7995.0</td>\n    </tr>\n    <tr>\n      <th>58</th>\n      <td>58</td>\n      <td>86</td>\n      <td>volkswagen</td>\n      <td>sedan</td>\n      <td>97.3</td>\n      <td>171.7</td>\n      <td>ohc</td>\n      <td>four</td>\n      <td>100</td>\n      <td>26</td>\n      <td>9995.0</td>\n    </tr>\n    <tr>\n      <th>59</th>\n      <td>59</td>\n      <td>87</td>\n      <td>volvo</td>\n      <td>sedan</td>\n      <td>104.3</td>\n      <td>188.8</td>\n      <td>ohc</td>\n      <td>four</td>\n      <td>114</td>\n      <td>23</td>\n      <td>12940.0</td>\n    </tr>\n    <tr>\n      <th>60</th>\n      <td>60</td>\n      <td>88</td>\n      <td>volvo</td>\n      <td>wagon</td>\n      <td>104.3</td>\n      <td>188.8</td>\n      <td>ohc</td>\n      <td>four</td>\n      <td>114</td>\n      <td>23</td>\n      <td>13415.0</td>\n    </tr>\n  </tbody>\n</table>\n<p>61 rows × 11 columns</p>\n</div>"
     },
     "metadata": {},
     "execution_count": 3
    }
   ],
   "source": [
    "data.replace(['?'],['Nan'])\n",
    "data.replace(['n.a'],['Nan'])"
   ]
  },
  {
   "cell_type": "code",
   "execution_count": 4,
   "metadata": {},
   "outputs": [
    {
     "output_type": "stream",
     "name": "stdout",
     "text": [
      "    Unnamed: 0  index company body-style  wheel-base  length engine-type  \\\n59          59     87   volvo      sedan       104.3   188.8         ohc   \n60          60     88   volvo      wagon       104.3   188.8         ohc   \n\n   num-of-cylinders  horsepower  average-mileage    price  \n59             four         114               23  12940.0  \n60             four         114               23  13415.0  \n"
     ]
    }
   ],
   "source": [
    "volvo=data[data['company']=='volvo']\n",
    "print(volvo)"
   ]
  },
  {
   "cell_type": "code",
   "execution_count": 6,
   "metadata": {},
   "outputs": [
    {
     "output_type": "execute_result",
     "data": {
      "text/plain": [
       "toyota           7\n",
       "bmw              6\n",
       "nissan           5\n",
       "mazda            5\n",
       "mitsubishi       4\n",
       "volkswagen       4\n",
       "audi             4\n",
       "mercedes-benz    4\n",
       "isuzu            3\n",
       "jaguar           3\n",
       "porsche          3\n",
       "chevrolet        3\n",
       "alfa-romero      3\n",
       "honda            3\n",
       "dodge            2\n",
       "volvo            2\n",
       "Name: company, dtype: int64"
      ]
     },
     "metadata": {},
     "execution_count": 6
    }
   ],
   "source": [
    "data['company'].value_counts()"
   ]
  },
  {
   "cell_type": "code",
   "execution_count": 8,
   "metadata": {},
   "outputs": [
    {
     "output_type": "stream",
     "name": "stderr",
     "text": [
      "<ipython-input-8-5eb798cdd39d>:2: FutureWarning: Indexing with multiple keys (implicitly converted to a tuple of keys) will be deprecated, use a list instead.\n  price = company['company','price'].max()\n"
     ]
    },
    {
     "output_type": "execute_result",
     "data": {
      "text/plain": [
       "                     company    price\n",
       "company                              \n",
       "alfa-romero      alfa-romero  16500.0\n",
       "audi                    audi  18920.0\n",
       "bmw                      bmw  41315.0\n",
       "chevrolet          chevrolet   6575.0\n",
       "dodge                  dodge   6377.0\n",
       "honda                  honda  12945.0\n",
       "isuzu                  isuzu   6785.0\n",
       "jaguar                jaguar  36000.0\n",
       "mazda                  mazda  18344.0\n",
       "mercedes-benz  mercedes-benz  45400.0\n",
       "mitsubishi        mitsubishi   8189.0\n",
       "nissan                nissan  13499.0\n",
       "porsche              porsche  37028.0\n",
       "toyota                toyota  15750.0\n",
       "volkswagen        volkswagen   9995.0\n",
       "volvo                  volvo  13415.0"
      ],
      "text/html": "<div>\n<style scoped>\n    .dataframe tbody tr th:only-of-type {\n        vertical-align: middle;\n    }\n\n    .dataframe tbody tr th {\n        vertical-align: top;\n    }\n\n    .dataframe thead th {\n        text-align: right;\n    }\n</style>\n<table border=\"1\" class=\"dataframe\">\n  <thead>\n    <tr style=\"text-align: right;\">\n      <th></th>\n      <th>company</th>\n      <th>price</th>\n    </tr>\n    <tr>\n      <th>company</th>\n      <th></th>\n      <th></th>\n    </tr>\n  </thead>\n  <tbody>\n    <tr>\n      <th>alfa-romero</th>\n      <td>alfa-romero</td>\n      <td>16500.0</td>\n    </tr>\n    <tr>\n      <th>audi</th>\n      <td>audi</td>\n      <td>18920.0</td>\n    </tr>\n    <tr>\n      <th>bmw</th>\n      <td>bmw</td>\n      <td>41315.0</td>\n    </tr>\n    <tr>\n      <th>chevrolet</th>\n      <td>chevrolet</td>\n      <td>6575.0</td>\n    </tr>\n    <tr>\n      <th>dodge</th>\n      <td>dodge</td>\n      <td>6377.0</td>\n    </tr>\n    <tr>\n      <th>honda</th>\n      <td>honda</td>\n      <td>12945.0</td>\n    </tr>\n    <tr>\n      <th>isuzu</th>\n      <td>isuzu</td>\n      <td>6785.0</td>\n    </tr>\n    <tr>\n      <th>jaguar</th>\n      <td>jaguar</td>\n      <td>36000.0</td>\n    </tr>\n    <tr>\n      <th>mazda</th>\n      <td>mazda</td>\n      <td>18344.0</td>\n    </tr>\n    <tr>\n      <th>mercedes-benz</th>\n      <td>mercedes-benz</td>\n      <td>45400.0</td>\n    </tr>\n    <tr>\n      <th>mitsubishi</th>\n      <td>mitsubishi</td>\n      <td>8189.0</td>\n    </tr>\n    <tr>\n      <th>nissan</th>\n      <td>nissan</td>\n      <td>13499.0</td>\n    </tr>\n    <tr>\n      <th>porsche</th>\n      <td>porsche</td>\n      <td>37028.0</td>\n    </tr>\n    <tr>\n      <th>toyota</th>\n      <td>toyota</td>\n      <td>15750.0</td>\n    </tr>\n    <tr>\n      <th>volkswagen</th>\n      <td>volkswagen</td>\n      <td>9995.0</td>\n    </tr>\n    <tr>\n      <th>volvo</th>\n      <td>volvo</td>\n      <td>13415.0</td>\n    </tr>\n  </tbody>\n</table>\n</div>"
     },
     "metadata": {},
     "execution_count": 8
    }
   ],
   "source": [
    "company = data.groupby('company')\n",
    "price = company['company','price'].max()\n",
    "price"
   ]
  },
  {
   "cell_type": "code",
   "execution_count": 9,
   "metadata": {},
   "outputs": [
    {
     "output_type": "stream",
     "name": "stderr",
     "text": [
      "<ipython-input-9-7c8c12bdcbcc>:1: FutureWarning: Indexing with multiple keys (implicitly converted to a tuple of keys) will be deprecated, use a list instead.\n  mileage = company['company','average-mileage'].mean()\n"
     ]
    },
    {
     "output_type": "execute_result",
     "data": {
      "text/plain": [
       "               average-mileage\n",
       "company                       \n",
       "alfa-romero          20.333333\n",
       "audi                 20.000000\n",
       "bmw                  19.000000\n",
       "chevrolet            41.000000\n",
       "dodge                31.000000\n",
       "honda                26.333333\n",
       "isuzu                33.333333\n",
       "jaguar               14.333333\n",
       "mazda                28.000000\n",
       "mercedes-benz        18.000000\n",
       "mitsubishi           29.500000\n",
       "nissan               31.400000\n",
       "porsche              17.000000\n",
       "toyota               28.714286\n",
       "volkswagen           31.750000\n",
       "volvo                23.000000"
      ],
      "text/html": "<div>\n<style scoped>\n    .dataframe tbody tr th:only-of-type {\n        vertical-align: middle;\n    }\n\n    .dataframe tbody tr th {\n        vertical-align: top;\n    }\n\n    .dataframe thead th {\n        text-align: right;\n    }\n</style>\n<table border=\"1\" class=\"dataframe\">\n  <thead>\n    <tr style=\"text-align: right;\">\n      <th></th>\n      <th>average-mileage</th>\n    </tr>\n    <tr>\n      <th>company</th>\n      <th></th>\n    </tr>\n  </thead>\n  <tbody>\n    <tr>\n      <th>alfa-romero</th>\n      <td>20.333333</td>\n    </tr>\n    <tr>\n      <th>audi</th>\n      <td>20.000000</td>\n    </tr>\n    <tr>\n      <th>bmw</th>\n      <td>19.000000</td>\n    </tr>\n    <tr>\n      <th>chevrolet</th>\n      <td>41.000000</td>\n    </tr>\n    <tr>\n      <th>dodge</th>\n      <td>31.000000</td>\n    </tr>\n    <tr>\n      <th>honda</th>\n      <td>26.333333</td>\n    </tr>\n    <tr>\n      <th>isuzu</th>\n      <td>33.333333</td>\n    </tr>\n    <tr>\n      <th>jaguar</th>\n      <td>14.333333</td>\n    </tr>\n    <tr>\n      <th>mazda</th>\n      <td>28.000000</td>\n    </tr>\n    <tr>\n      <th>mercedes-benz</th>\n      <td>18.000000</td>\n    </tr>\n    <tr>\n      <th>mitsubishi</th>\n      <td>29.500000</td>\n    </tr>\n    <tr>\n      <th>nissan</th>\n      <td>31.400000</td>\n    </tr>\n    <tr>\n      <th>porsche</th>\n      <td>17.000000</td>\n    </tr>\n    <tr>\n      <th>toyota</th>\n      <td>28.714286</td>\n    </tr>\n    <tr>\n      <th>volkswagen</th>\n      <td>31.750000</td>\n    </tr>\n    <tr>\n      <th>volvo</th>\n      <td>23.000000</td>\n    </tr>\n  </tbody>\n</table>\n</div>"
     },
     "metadata": {},
     "execution_count": 9
    }
   ],
   "source": [
    "mileage = company['company','average-mileage'].mean()\n",
    "mileage"
   ]
  },
  {
   "cell_type": "code",
   "execution_count": 19,
   "metadata": {},
   "outputs": [],
   "source": [
    "Car_Price = {'Company': ['Toyota', 'Honda', 'BMV', 'Audi'], 'Price': [23845, 17995,\n",
    "135925, 71400]}\n",
    "Car_Price_Data=pd.DataFrame.from_dict(Car_Price)"
   ]
  },
  {
   "cell_type": "code",
   "execution_count": 20,
   "metadata": {},
   "outputs": [],
   "source": [
    "Car_Horsepower = {'Company': ['Toyota', 'Honda', 'BMV', 'Audi'], 'horsepower': [141, 80,\n",
    "182, 160]}\n",
    "Car_Horsepower_Data=pd.DataFrame.from_dict(Car_Horsepower)"
   ]
  },
  {
   "cell_type": "code",
   "execution_count": 21,
   "metadata": {},
   "outputs": [
    {
     "output_type": "execute_result",
     "data": {
      "text/plain": [
       "  Company   Price  horsepower\n",
       "0  Toyota   23845         141\n",
       "1   Honda   17995          80\n",
       "2     BMV  135925         182\n",
       "3    Audi   71400         160"
      ],
      "text/html": "<div>\n<style scoped>\n    .dataframe tbody tr th:only-of-type {\n        vertical-align: middle;\n    }\n\n    .dataframe tbody tr th {\n        vertical-align: top;\n    }\n\n    .dataframe thead th {\n        text-align: right;\n    }\n</style>\n<table border=\"1\" class=\"dataframe\">\n  <thead>\n    <tr style=\"text-align: right;\">\n      <th></th>\n      <th>Company</th>\n      <th>Price</th>\n      <th>horsepower</th>\n    </tr>\n  </thead>\n  <tbody>\n    <tr>\n      <th>0</th>\n      <td>Toyota</td>\n      <td>23845</td>\n      <td>141</td>\n    </tr>\n    <tr>\n      <th>1</th>\n      <td>Honda</td>\n      <td>17995</td>\n      <td>80</td>\n    </tr>\n    <tr>\n      <th>2</th>\n      <td>BMV</td>\n      <td>135925</td>\n      <td>182</td>\n    </tr>\n    <tr>\n      <th>3</th>\n      <td>Audi</td>\n      <td>71400</td>\n      <td>160</td>\n    </tr>\n  </tbody>\n</table>\n</div>"
     },
     "metadata": {},
     "execution_count": 21
    }
   ],
   "source": [
    "merged=pd.merge(Car_Price_Data,Car_Horsepower_Data, on ='Company')\n",
    "merged"
   ]
  },
  {
   "cell_type": "code",
   "execution_count": null,
   "metadata": {},
   "outputs": [],
   "source": []
  }
 ]
}